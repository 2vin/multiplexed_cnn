{
 "cells": [
  {
   "cell_type": "code",
   "execution_count": 205,
   "metadata": {},
   "outputs": [
    {
     "name": "stdout",
     "output_type": "stream",
     "text": [
      "x_train shape: (60000, 28, 28, 1)\n",
      "60000 train samples\n",
      "10000 test samples\n"
     ]
    }
   ],
   "source": [
    "'''\n",
    "Multiplexed Convolutional Neural Network Implementation on MNIST\n",
    "Vin Ay\n",
    "\n",
    "Input  : [Image, Control Signal] -> Image = B/W or W/B Digits, Control Signal = 0 (for B/W), 1 (for W/B)\n",
    "Output : [Digit Index]\n",
    "'''\n",
    "\n",
    "from __future__ import print_function\n",
    "import keras\n",
    "from keras.datasets import mnist\n",
    "from keras.models import Sequential\n",
    "from keras.layers import Dense, Dropout, Flatten, Softmax\n",
    "from keras.layers import Conv2D, MaxPooling2D, Input\n",
    "from keras import backend as K\n",
    "from keras.models import Model\n",
    "from multiplexer import Multiplexer\n",
    "\n",
    "import numpy as np\n",
    "import random\n",
    "\n",
    "\n",
    "batch_size = 128\n",
    "num_classes = 10\n",
    "epochs = 10\n",
    "\n",
    "# input image dimensions\n",
    "img_rows, img_cols = 28, 28\n",
    "\n",
    "# the data, split between train and test sets\n",
    "(x_train, y_train), (x_test, y_test) = mnist.load_data()\n",
    "\n",
    "x_train = x_train.reshape(x_train.shape[0], 28, 28,1)\n",
    "x_test = x_test.reshape(x_test.shape[0], 28, 28, 1)\n",
    "x_train = x_train.astype('float32')\n",
    "x_test = x_test.astype('float32')\n",
    "x_train /= 255\n",
    "x_test /= 255\n",
    "\n",
    "# Create Invert Color dataset for other branch of the network\n",
    "x_train_inv = 1 - x_train\n",
    "x_test_inv = 1 - x_test\n",
    "\n",
    "\n",
    "print('x_train shape:', x_train.shape)\n",
    "print(x_train.shape[0], 'train samples')\n",
    "print(x_test.shape[0], 'test samples')\n",
    "\n",
    "# convert class vectors to binary class matrices\n",
    "y_train = keras.utils.to_categorical(y_train, num_classes)\n",
    "y_test = keras.utils.to_categorical(y_test, num_classes)\n",
    "\n"
   ]
  },
  {
   "cell_type": "code",
   "execution_count": 206,
   "metadata": {},
   "outputs": [],
   "source": [
    "# Build data batch generator for Training and Testing\n",
    "\n",
    "def getTrainBatch(batch_size):\n",
    "    while True:\n",
    "        batch_x = []\n",
    "        batch_c = []\n",
    "        batch_y = []\n",
    "        for i in range(batch_size):\n",
    "            ch = random.randint(0,1)\n",
    "            ch2 = random.randint(0, 60000-1)\n",
    "            if ch == 0:\n",
    "                batch_x.append(x_train[ch2])\n",
    "                batch_c.append(ch)\n",
    "                batch_y.append(y_train[ch2])\n",
    "\n",
    "            else:\n",
    "                batch_x.append(x_train_inv[ch2])\n",
    "                batch_c.append(ch)\n",
    "                batch_y.append(y_train[ch2])\n",
    "\n",
    "        yield([np.array(batch_x), np.array(batch_c)], np.array(batch_y))\n",
    "    \n",
    "def getTestBatch(batch_size):\n",
    "    while True:\n",
    "        batch_x = []\n",
    "        batch_c = []\n",
    "        batch_y = []\n",
    "        for i in range(batch_size):\n",
    "            ch = random.randint(0,1)\n",
    "            ch2 = random.randint(0, 10000-1)\n",
    "            if ch == 0:\n",
    "                batch_x.append(x_test[ch2])\n",
    "                batch_c.append(ch)\n",
    "                batch_y.append(y_test[ch2])\n",
    "\n",
    "            else:\n",
    "                batch_x.append(x_test_inv[ch2])\n",
    "                batch_c.append(ch)\n",
    "                batch_y.append(y_test[ch2])\n",
    "\n",
    "        yield([np.array(batch_x), np.array(batch_c)], np.array(batch_y))\n",
    "    "
   ]
  },
  {
   "cell_type": "code",
   "execution_count": 208,
   "metadata": {},
   "outputs": [
    {
     "name": "stdout",
     "output_type": "stream",
     "text": [
      "Epoch 1/10\n",
      "469/468 [==============================] - 40s 84ms/step - loss: 0.4353 - accuracy: 0.8620 - val_loss: 0.1087 - val_accuracy: 0.9701\n",
      "Epoch 2/10\n",
      "469/468 [==============================] - 38s 81ms/step - loss: 0.1441 - accuracy: 0.9564 - val_loss: 0.0356 - val_accuracy: 0.9808\n",
      "Epoch 3/10\n",
      "469/468 [==============================] - 38s 82ms/step - loss: 0.1107 - accuracy: 0.9665 - val_loss: 0.0769 - val_accuracy: 0.9849\n",
      "Epoch 4/10\n",
      "469/468 [==============================] - 38s 82ms/step - loss: 0.0951 - accuracy: 0.9706 - val_loss: 0.0551 - val_accuracy: 0.9845\n",
      "Epoch 5/10\n",
      "469/468 [==============================] - 38s 82ms/step - loss: 0.0827 - accuracy: 0.9750 - val_loss: 0.0347 - val_accuracy: 0.9871\n",
      "Epoch 6/10\n",
      "469/468 [==============================] - 39s 82ms/step - loss: 0.0768 - accuracy: 0.9773 - val_loss: 0.0840 - val_accuracy: 0.9861\n",
      "Epoch 7/10\n",
      "469/468 [==============================] - 39s 83ms/step - loss: 0.0655 - accuracy: 0.9803 - val_loss: 0.0361 - val_accuracy: 0.9866\n",
      "Epoch 8/10\n",
      "469/468 [==============================] - 39s 83ms/step - loss: 0.0649 - accuracy: 0.9801 - val_loss: 0.0325 - val_accuracy: 0.9885\n",
      "Epoch 9/10\n",
      "469/468 [==============================] - 39s 82ms/step - loss: 0.0622 - accuracy: 0.9810 - val_loss: 0.0518 - val_accuracy: 0.9899\n",
      "Epoch 10/10\n",
      "469/468 [==============================] - 39s 83ms/step - loss: 0.0550 - accuracy: 0.9828 - val_loss: 0.0591 - val_accuracy: 0.9890\n"
     ]
    },
    {
     "data": {
      "text/plain": [
       "<keras.callbacks.callbacks.History at 0x7fd33ffbf3c8>"
      ]
     },
     "execution_count": 208,
     "metadata": {},
     "output_type": "execute_result"
    }
   ],
   "source": [
    "# Build Multiplexed Model for training both types of data separately \n",
    "\n",
    "input_shape = (28, 28,1)\n",
    "input_im = Input(shape = input_shape)\n",
    "control = Input(shape = (1,), dtype = 'int32')\n",
    "\n",
    "x = Conv2D(32, (3,3), activation = 'relu')(input_im)\n",
    "x = MaxPooling2D(pool_size = (2,2))(x)\n",
    "x = Conv2D(64, (3,3), activation = 'relu')(x)\n",
    "x = MaxPooling2D(pool_size = (2,2))(x)\n",
    "x = Dropout(0.25)(x)\n",
    "x = Flatten()(x)\n",
    "x = Dense(128, activation = 'relu')(x)\n",
    "x = Dropout(0.5)(x)\n",
    "x = Dense(2*num_classes)(x)\n",
    "\n",
    "output = Multiplexer(num_classes, 2)([x, control])\n",
    "output = Softmax()(output)\n",
    "\n",
    "model = Model([input_im, control], output)\n",
    "\n",
    "# Save model image on disk\n",
    "from keras.utils import plot_model\n",
    "plot_model(model, to_file='model.png')\n",
    "\n",
    "model.compile(loss=keras.losses.categorical_crossentropy,\n",
    "              optimizer=keras.optimizers.Adadelta(),\n",
    "              metrics=['accuracy'])\n",
    "\n",
    "# Start training the model\n",
    "model.fit_generator(getTrainBatch(batch_size),\n",
    "                    epochs=epochs,\n",
    "                    verbose=1,\n",
    "                    steps_per_epoch=len(x_train)/batch_size,\n",
    "                    validation_data=getTestBatch(batch_size),\n",
    "                    validation_steps = len(x_test)/batch_size                   \n",
    "                   )\n"
   ]
  },
  {
   "cell_type": "code",
   "execution_count": 209,
   "metadata": {},
   "outputs": [],
   "source": [
    "# Save model on disk\n",
    "model.save(\"mnist_10ep.h5\")"
   ]
  },
  {
   "cell_type": "code",
   "execution_count": 212,
   "metadata": {},
   "outputs": [
    {
     "data": {
      "image/png": "[encoded data removed]",
      "text/plain": [
       "<Figure size 216x216 with 2 Axes>"
      ]
     },
     "metadata": {
      "needs_background": "light"
     },
     "output_type": "display_data"
    },
    {
     "name": "stdout",
     "output_type": "stream",
     "text": [
      "7 : 0.99999785   7 : 1.0\n"
     ]
    },
    {
     "data": {
      "image/png": "[encoded data removed]",
      "text/plain": [
       "<Figure size 216x216 with 2 Axes>"
      ]
     },
     "metadata": {
      "needs_background": "light"
     },
     "output_type": "display_data"
    },
    {
     "name": "stdout",
     "output_type": "stream",
     "text": [
      "2 : 0.99999   2 : 0.9999033\n"
     ]
    },
    {
     "data": {
      "image/png": "[encoded data removed]",
      "text/plain": [
       "<Figure size 216x216 with 2 Axes>"
      ]
     },
     "metadata": {
      "needs_background": "light"
     },
     "output_type": "display_data"
    },
    {
     "name": "stdout",
     "output_type": "stream",
     "text": [
      "1 : 0.99999535   1 : 0.99999106\n"
     ]
    },
    {
     "data": {
      "image/png": "[encoded data removed]",
      "text/plain": [
       "<Figure size 216x216 with 2 Axes>"
      ]
     },
     "metadata": {
      "needs_background": "light"
     },
     "output_type": "display_data"
    },
    {
     "name": "stdout",
     "output_type": "stream",
     "text": [
      "0 : 0.99998546   0 : 0.9999186\n"
     ]
    },
    {
     "data": {
      "image/png": "[encoded data removed]",
      "text/plain": [
       "<Figure size 216x216 with 2 Axes>"
      ]
     },
     "metadata": {
      "needs_background": "light"
     },
     "output_type": "display_data"
    },
    {
     "name": "stdout",
     "output_type": "stream",
     "text": [
      "4 : 0.99995923   4 : 0.99995947\n"
     ]
    },
    {
     "data": {
      "image/png": "[encoded data removed]",
      "text/plain": [
       "<Figure size 216x216 with 2 Axes>"
      ]
     },
     "metadata": {
      "needs_background": "light"
     },
     "output_type": "display_data"
    },
    {
     "name": "stdout",
     "output_type": "stream",
     "text": [
      "1 : 0.9999976   1 : 0.99999464\n"
     ]
    },
    {
     "data": {
      "image/png": "[encoded data removed]",
      "text/plain": [
       "<Figure size 216x216 with 2 Axes>"
      ]
     },
     "metadata": {
      "needs_background": "light"
     },
     "output_type": "display_data"
    },
    {
     "name": "stdout",
     "output_type": "stream",
     "text": [
      "4 : 0.99528956   4 : 0.96976286\n"
     ]
    },
    {
     "data": {
      "image/png": "[encoded data removed]",
      "text/plain": [
       "<Figure size 216x216 with 2 Axes>"
      ]
     },
     "metadata": {
      "needs_background": "light"
     },
     "output_type": "display_data"
    },
    {
     "name": "stdout",
     "output_type": "stream",
     "text": [
      "9 : 0.99952793   9 : 0.9982969\n"
     ]
    },
    {
     "data": {
      "image/png": "[encoded data removed]",
      "text/plain": [
       "<Figure size 216x216 with 2 Axes>"
      ]
     },
     "metadata": {
      "needs_background": "light"
     },
     "output_type": "display_data"
    },
    {
     "name": "stdout",
     "output_type": "stream",
     "text": [
      "5 : 0.9998573   5 : 0.9992526\n"
     ]
    },
    {
     "data": {
      "image/png": "[encoded data removed]",
      "text/plain": [
       "<Figure size 216x216 with 2 Axes>"
      ]
     },
     "metadata": {
      "needs_background": "light"
     },
     "output_type": "display_data"
    },
    {
     "name": "stdout",
     "output_type": "stream",
     "text": [
      "9 : 0.9999075   9 : 0.99977165\n"
     ]
    }
   ],
   "source": [
    "'''\n",
    "Plotting images to visualize output of the network\n",
    "'''\n",
    "\n",
    "import matplotlib.pyplot as plt\n",
    "from PIL import Image\n",
    "import tensorflow as tf\n",
    "import time\n",
    "\n",
    "for i in range(10):\n",
    "    plt.figure(figsize=(3, 3))\n",
    "    plt.subplot(1, 3, 1)\n",
    "    im = tf.keras.preprocessing.image.array_to_img( x_test[i], data_format=None, scale=True,dtype=None)\n",
    "    plt.imshow(im, cmap=\"gray\")\n",
    "    plt.subplot(1, 3, 3)\n",
    "    im2 = tf.keras.preprocessing.image.array_to_img( x_test_inv[i], data_format=None, scale=True,dtype=None)\n",
    "    plt.imshow(im2, cmap=\"gray\")\n",
    "    plt.show()\n",
    "    \n",
    "    black_res = model.predict([x_test[i].reshape(1,28,28,1),np.array([0])])\n",
    "    white_res = model.predict([x_test_inv[i].reshape(1,28,28,1),np.array([1])])\n",
    "    \n",
    "    b_ind = np.argmax(black_res)\n",
    "    w_ind = np.argmax(white_res)\n",
    "    \n",
    "    print(b_ind,\":\",black_res[0][b_ind],\" \", w_ind,\":\",white_res[0][w_ind])\n",
    "    \n"
   ]
  },
  {
   "cell_type": "code",
   "execution_count": null,
   "metadata": {},
   "outputs": [],
   "source": []
  }
 ],
 "metadata": {
  "kernelspec": {
   "display_name": "Python 3",
   "language": "python",
   "name": "python3"
  },
  "language_info": {
   "codemirror_mode": {
    "name": "ipython",
    "version": 3
   },
   "file_extension": ".py",
   "mimetype": "text/x-python",
   "name": "python",
   "nbconvert_exporter": "python",
   "pygments_lexer": "ipython3",
   "version": "3.5.6"
  }
 },
 "nbformat": 4,
 "nbformat_minor": 2
}
